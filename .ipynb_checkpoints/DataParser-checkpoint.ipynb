{
 "cells": [
  {
   "cell_type": "code",
   "execution_count": 1,
   "metadata": {},
   "outputs": [],
   "source": [
    "import ftplib\n",
    "import os\n",
    "import pandas as pd"
   ]
  },
  {
   "cell_type": "code",
   "execution_count": 2,
   "metadata": {},
   "outputs": [],
   "source": [
    "SOURCE_ROOT = \"badc/ukmo-midas/data/ST/\"\n",
    "\n",
    "dataSourceFolder = SOURCE_ROOT + \"yearly_files/\"\n",
    "connection =ftplib.FTP(\"ftp.ceda.ac.uk\", \"rnicoll\", \"Windows.7\")"
   ]
  },
  {
   "cell_type": "code",
   "execution_count": 3,
   "metadata": {},
   "outputs": [],
   "source": [
    "DATA_STORE = os.path.join(\"data/\")\n",
    "os.makedirs(DATA_STORE, exist_ok =True)"
   ]
  },
  {
   "cell_type": "code",
   "execution_count": 4,
   "metadata": {},
   "outputs": [
    {
     "name": "stdout",
     "output_type": "stream",
     "text": [
      "220 JASMIN BADC/NEODC FTP server\n",
      "drwxr-xr-x   2 badc     byacl       36864 Jan 13 14:52 badc\n",
      "drwxrwxr-x   8 badc     byacl       16384 Dec 10 17:41 neodc\n",
      "drwxrwx--- 3125 badc     byacl      430080 Jan 21 12:14 requests\n",
      "drwxr-xr-x   3 badc     open         4096 Apr 29  2020 sparc\n",
      "-rw-r--r--   1 root     root          402 Jun 16  2020 welcome.msg\n",
      "226 Transfer complete\n"
     ]
    },
    {
     "data": {
      "text/plain": [
       "'250 CWD command successful'"
      ]
     },
     "execution_count": 4,
     "metadata": {},
     "output_type": "execute_result"
    }
   ],
   "source": [
    "print(connection.getwelcome())\n",
    "print(connection.retrlines('LIST'))\n",
    "connection.cwd(dataSourceFolder)"
   ]
  },
  {
   "cell_type": "code",
   "execution_count": 5,
   "metadata": {},
   "outputs": [
    {
     "data": {
      "text/plain": [
       "'226 Transfer complete'"
      ]
     },
     "execution_count": 5,
     "metadata": {},
     "output_type": "execute_result"
    }
   ],
   "source": [
    "file=\"midas_soiltemp_202001-202012.txt\"\n",
    "\n",
    "#midas_soiltemp_190001-190012.txt\n",
    "# midas_soiltemp_190401-190412.txt\n",
    "    \n",
    "  #  midas_soiltemp_192001-192012.txt\n",
    "   # midas_soiltemp_192101-192112.txt\n",
    "    \n",
    "   # midas_soiltemp_202001-202012.txt\n",
    "    \n",
    "    #\"midas_soiltemp_\"+yearFrom+\"-\"+yearTo+\".txt\"\n",
    "    \n",
    "connection.retrbinary(\"RETR %s\" % file, open(DATA_STORE + file, \"wb\").write)"
   ]
  },
  {
   "cell_type": "code",
   "execution_count": 6,
   "metadata": {},
   "outputs": [],
   "source": [
    "connection.close()"
   ]
  },
  {
   "cell_type": "code",
   "execution_count": 7,
   "metadata": {},
   "outputs": [
    {
     "name": "stdout",
     "output_type": "stream",
     "text": [
      "Empty DataFrame\n",
      "Columns: [id, id_type, ob_time, met_domain_name, version_num, src_id, rec_st_ind, q5cm_soil_temp, q10cm_soil_temp, q20cm_soil_temp, q30cm_soil_temp, q50cm_soil_temp, q100cm_soil_temp, q5cm_soil_tempq, q10cm_soil_tempq, q20cm_soil_tempq, q30cm_soil_tempq, q50cm_soil_tempq, q100cm_soil_tempq, meto_stmp_time, midas_stmp_etime, q5cm_soil_temp_j, q10cm_soil_temp_j, q20cm_soil_temp_j, q30cm_soil_temp_j, q50cm_soil_temp_j, q100cm_soil_temp_j]\n",
      "Index: []\n",
      "\n",
      "[0 rows x 27 columns]\n"
     ]
    }
   ],
   "source": [
    "soilDataFrame = pd.DataFrame(columns = ['id', 'id_type', 'ob_time', 'met_domain_name', 'version_num', 'src_id', 'rec_st_ind', 'q5cm_soil_temp', 'q10cm_soil_temp', 'q20cm_soil_temp', 'q30cm_soil_temp', 'q50cm_soil_temp', 'q100cm_soil_temp', 'q5cm_soil_tempq', 'q10cm_soil_tempq', 'q20cm_soil_tempq', 'q30cm_soil_tempq', 'q50cm_soil_tempq', 'q100cm_soil_tempq', 'meto_stmp_time', 'midas_stmp_etime', 'q5cm_soil_temp_j', 'q10cm_soil_temp_j', 'q20cm_soil_temp_j', 'q30cm_soil_temp_j', 'q50cm_soil_temp_j', 'q100cm_soil_temp_j'])\n",
    "print(soilDataFrame)"
   ]
  },
  {
   "cell_type": "code",
   "execution_count": 9,
   "metadata": {},
   "outputs": [
    {
     "name": "stdout",
     "output_type": "stream",
     "text": [
      "['0044', 'DCNN', '2020-01-01 00:00', 'HCM', '1', '9', '1011', '', '5.5', '', '', '', '', '', '1', '', '', '', '', '2019-12-31 23:52', '0', '', '', '', '', ',\\n']\n"
     ]
    }
   ],
   "source": [
    "f = open(DATA_STORE + file, \"r\")\n",
    "i=0\n",
    "#while True:\n",
    "text = f.readline().split(\", \")\n",
    "print(text)\n",
    "        \n",
    "  #  if not text:\n",
    "  #      break\n",
    "        \n",
    "   # text.remove(',\\n')\n",
    "   # text.append(' ')\n",
    "   # text.append(' ')\n",
    "\n",
    "   # a_series = pd.Series(text, index = soilDataFrame.columns)\n",
    "   # soilDataFrame = soilDataFrame.append(a_series, ignore_index=True)\n",
    "\n",
    "\n",
    "\n",
    "f.close()"
   ]
  },
  {
   "cell_type": "code",
   "execution_count": 17,
   "metadata": {},
   "outputs": [
    {
     "name": "stdout",
     "output_type": "stream",
     "text": [
      "   Unnamed: 0   id id_type           ob_time met_domain_name  version_num  \\\n",
      "0           0   44    DCNN  2020-01-01 00:00             HCM            1   \n",
      "1           1  355    DCNN  2020-01-01 00:00             HCM            1   \n",
      "2           2  425    DCNN  2020-01-01 00:00             HCM            1   \n",
      "3           3  447    DCNN  2020-01-01 00:00             HCM            1   \n",
      "4           4  573    DCNN  2020-01-01 00:00             HCM            1   \n",
      "\n",
      "   src_id  rec_st_ind  q5cm_soil_temp  q10cm_soil_temp  ...  q50cm_soil_tempq  \\\n",
      "0       9        1011             NaN              5.5  ...               NaN   \n",
      "1      44        1011             NaN              4.2  ...               NaN   \n",
      "2      54        1011             NaN              5.9  ...               NaN   \n",
      "3      67        1011             NaN              1.3  ...               NaN   \n",
      "4     105        1011             NaN              1.9  ...               NaN   \n",
      "\n",
      "   q100cm_soil_tempq    meto_stmp_time  midas_stmp_etime  q5cm_soil_temp_j  \\\n",
      "0                NaN  2019-12-31 23:52               0.0               NaN   \n",
      "1                NaN  2019-12-31 23:54               0.0               NaN   \n",
      "2                NaN  2019-12-31 23:52               0.0               NaN   \n",
      "3                NaN  2019-12-31 23:53               0.0               NaN   \n",
      "4                NaN  2019-12-31 23:54               0.0               NaN   \n",
      "\n",
      "   q10cm_soil_temp_j  q20cm_soil_temp_j  q30cm_soil_temp_j  q50cm_soil_temp_j  \\\n",
      "0                NaN                NaN                NaN                      \n",
      "1                NaN                NaN                NaN                      \n",
      "2                NaN                NaN                NaN                      \n",
      "3                NaN                NaN                NaN                      \n",
      "4                NaN                NaN                NaN                      \n",
      "\n",
      "   q100cm_soil_temp_j  \n",
      "0                      \n",
      "1                      \n",
      "2                      \n",
      "3                      \n",
      "4                      \n",
      "\n",
      "[5 rows x 28 columns]\n"
     ]
    }
   ],
   "source": [
    "soilDataFrame.to_csv('test.csv')\n",
    "newTest = pd.read_csv(\"test.csv\")\n",
    "print(newTest.head())"
   ]
  },
  {
   "cell_type": "code",
   "execution_count": 26,
   "metadata": {},
   "outputs": [
    {
     "data": {
      "text/plain": [
       "array([[<matplotlib.axes._subplots.AxesSubplot object at 0x7fde37558c70>]],\n",
       "      dtype=object)"
      ]
     },
     "execution_count": 26,
     "metadata": {},
     "output_type": "execute_result"
    },
    {
     "data": {
      "image/png": "[encoded data removed]",
      "text/plain": [
       "<Figure size 432x288 with 1 Axes>"
      ]
     },
     "metadata": {
      "needs_background": "light"
     },
     "output_type": "display_data"
    }
   ],
   "source": [
    "newTest.hist(column='q10cm_soil_temp')"
   ]
  },
  {
   "cell_type": "code",
   "execution_count": null,
   "metadata": {},
   "outputs": [],
   "source": []
  },
  {
   "cell_type": "code",
   "execution_count": null,
   "metadata": {},
   "outputs": [],
   "source": []
  },
  {
   "cell_type": "code",
   "execution_count": null,
   "metadata": {},
   "outputs": [],
   "source": []
  }
 ],
 "metadata": {
  "kernelspec": {
   "display_name": "Python 3",
   "language": "python",
   "name": "python3"
  },
  "language_info": {
   "codemirror_mode": {
    "name": "ipython",
    "version": 3
   },
   "file_extension": ".py",
   "mimetype": "text/x-python",
   "name": "python",
   "nbconvert_exporter": "python",
   "pygments_lexer": "ipython3",
   "version": "3.8.3"
  }
 },
 "nbformat": 4,
 "nbformat_minor": 4
}
