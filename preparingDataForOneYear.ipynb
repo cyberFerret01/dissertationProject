{
 "cells": [
  {
   "cell_type": "code",
   "execution_count": 95,
   "metadata": {},
   "outputs": [],
   "source": [
    "import ftplib\n",
    "import os\n",
    "import pandas as pd"
   ]
  },
  {
   "cell_type": "code",
   "execution_count": 96,
   "metadata": {},
   "outputs": [],
   "source": [
    "from datetime import timedelta, date\n",
    "\n",
    "def daterange(start_date, end_date):\n",
    "    for n in range(int((end_date - start_date).days)):\n",
    "        yield start_date + timedelta(n)"
   ]
  },
  {
   "cell_type": "code",
   "execution_count": null,
   "metadata": {},
   "outputs": [],
   "source": []
  },
  {
   "cell_type": "code",
   "execution_count": 97,
   "metadata": {},
   "outputs": [],
   "source": [
    "\n",
    "\n",
    "startDate = 190501\n",
    "endDate = 190512\n",
    "airData = pd.read_csv(\"airCSVData/midas_tempdrnl_\"+str(startDate) +\"-\"+ str(endDate)+\".csv\",sep=r'\\s*,\\s*',\n",
    "                           header=0, encoding='ascii', engine='python')\n",
    "\n",
    "soilData = pd.read_csv(\"soilCSVData/midas_soiltemp_\"+str(startDate) +\"-\"+ str(endDate)+\".csv\",sep=r'\\s*,\\s*',\n",
    "                           header=0, encoding='ascii', engine='python')"
   ]
  },
  {
   "cell_type": "code",
   "execution_count": null,
   "metadata": {},
   "outputs": [],
   "source": []
  },
  {
   "cell_type": "code",
   "execution_count": 98,
   "metadata": {},
   "outputs": [],
   "source": [
    "airDataS = airData.drop(columns = ['MAX_AIR_TEMP_J','MIN_AIR_TEMP_J','MIN_GRSS_TEMP_J','MIN_CONC_TEMP_J',\n",
    "                                 'MAX_AIR_TEMP_Q','MIN_AIR_TEMP_Q','MIN_GRSS_TEMP_Q','MIN_CONC_TEMP_Q',\n",
    "                                 'ID_TYPE','VERSION_NUM','MAX_AIR_TEMP','MIN_AIR_TEMP',\n",
    "                                 'MET_DOMAIN_NAME','ID','MIDAS_STMP_ETIME','MIN_CONC_TEMP','REC_ST_IND',\n",
    "                                 'OB_HOUR_COUNT','METO_STMP_TIME'])\n",
    "\n",
    "soilData = soilData.drop(columns = ['Q100CM_SOIL_TEMP_J','Q50CM_SOIL_TEMP_J','Q30CM_SOIL_TEMP_J','Q20CM_SOIL_TEMP_J',\n",
    "                        'Q10CM_SOIL_TEMP_J','Q100CM_SOIL_TEMP_Q','Q50CM_SOIL_TEMP_Q','Q30CM_SOIL_TEMP_Q',\n",
    "                        'Q20CM_SOIL_TEMP_Q','Q10CM_SOIL_TEMP_Q','Q5CM_SOIL_TEMP_Q','Q5CM_SOIL_TEMP_J',\n",
    "                        'Q50CM_SOIL_TEMP','Q30CM_SOIL_TEMP','Q20CM_SOIL_TEMP',\n",
    "                        'Q10CM_SOIL_TEMP','Q5CM_SOIL_TEMP', 'ID', 'ID_TYPE', 'MET_DOMAIN_NAME', \n",
    "                        'VERSION_NUM', 'MIDAS_STMP_ETIME','METO_STMP_TIME','REC_ST_IND'])\n",
    "\n",
    "\n",
    "airDataS[['OB_END_DATE','OB_END_TIME']] = airDataS['OB_END_TIME'].str.split(' ',expand=True)\n",
    "soilData[['OB_DATE','OB_TIME']] = soilData['OB_TIME'].str.split(' ',expand=True)\n",
    "\n"
   ]
  },
  {
   "cell_type": "code",
   "execution_count": 99,
   "metadata": {},
   "outputs": [
    {
     "name": "stdout",
     "output_type": "stream",
     "text": [
      "     OB_END_TIME  SRC_ID  MIN_GRSS_TEMP OB_END_DATE\n",
      "3          09:00   310.0           -5.6  1905-01-01\n",
      "5          09:00   449.0           -2.5  1905-01-01\n",
      "10         09:00   687.0           -2.9  1905-01-01\n",
      "16         09:00  1312.0           -6.0  1905-01-01\n",
      "27         09:00   310.0           -1.1  1905-01-02\n",
      "...          ...     ...            ...         ...\n",
      "8808       09:00   449.0            0.7  1905-12-30\n",
      "8813       09:00   687.0            2.1  1905-12-30\n",
      "8830       09:00   310.0           -3.2  1905-12-31\n",
      "8832       09:00   449.0           -2.4  1905-12-31\n",
      "8837       09:00   687.0           -1.6  1905-12-31\n",
      "\n",
      "[1409 rows x 4 columns]\n"
     ]
    }
   ],
   "source": [
    "\n",
    "\n",
    "#print(airDataS.iloc[1])\n",
    "\n",
    "\n",
    "#airLocation = (airDataS['SRC_ID'] == 1039)\n",
    "grassTemp = airDataS.MIN_GRSS_TEMP.notnull()\n",
    "\n",
    "airFilter = grassTemp #& airLocation\n",
    "\n",
    "filteredAirSet = airDataS[airFilter]\n",
    "print(filteredAirSet)"
   ]
  },
  {
   "cell_type": "code",
   "execution_count": 100,
   "metadata": {},
   "outputs": [
    {
     "name": "stdout",
     "output_type": "stream",
     "text": [
      "    OB_TIME  SRC_ID  Q100CM_SOIL_TEMP     OB_DATE\n",
      "0     09:00    1312               8.2  1905-01-01\n",
      "1     09:00    1312               8.2  1905-01-02\n",
      "2     09:00    1312               8.2  1905-01-03\n",
      "3     09:00    1312               8.2  1905-01-04\n",
      "4     09:00    1312               8.1  1905-01-05\n",
      "..      ...     ...               ...         ...\n",
      "360   09:00    1312               8.1  1905-12-27\n",
      "361   09:00    1312               8.1  1905-12-28\n",
      "362   09:00    1312               8.1  1905-12-29\n",
      "363   09:00    1312               8.1  1905-12-30\n",
      "364   09:00    1312               8.1  1905-12-31\n",
      "\n",
      "[365 rows x 4 columns]\n"
     ]
    }
   ],
   "source": [
    "\n",
    "\n",
    "cmTest = (soilData['Q100CM_SOIL_TEMP'] > 0)\n",
    "locationTest = (soilData['SRC_ID'] == 1039)\n",
    "\n",
    "newestTest = cmTest #& locationTest\n",
    "\n",
    "filteredSet = soilData[newestTest]\n",
    "\n",
    "\n",
    "\n",
    "\n",
    "print(filteredSet)#.hist('Q100CM_SOIL_TEMP', bins = 'auto'))"
   ]
  },
  {
   "cell_type": "code",
   "execution_count": 101,
   "metadata": {},
   "outputs": [
    {
     "name": "stdout",
     "output_type": "stream",
     "text": [
      "1\n"
     ]
    }
   ],
   "source": [
    "noOfStationsGrass = filteredAirSet.SRC_ID.unique().tolist()\n",
    "noOfStationsSoil = filteredSet.SRC_ID.unique().tolist()\n",
    "\n",
    "bothHaveData = list(set(noOfStationsSoil) & set(noOfStationsGrass))\n",
    "\n",
    "print(len(bothHaveData))"
   ]
  },
  {
   "cell_type": "code",
   "execution_count": 102,
   "metadata": {},
   "outputs": [
    {
     "ename": "SyntaxError",
     "evalue": "invalid syntax (<ipython-input-102-7f567a50cae0>, line 8)",
     "output_type": "error",
     "traceback": [
      "\u001b[0;36m  File \u001b[0;32m\"<ipython-input-102-7f567a50cae0>\"\u001b[0;36m, line \u001b[0;32m8\u001b[0m\n\u001b[0;31m    print(single_date.strftime(\"%Y-%m-%d\"))    for j in len(bothValid):\u001b[0m\n\u001b[0m                                               ^\u001b[0m\n\u001b[0;31mSyntaxError\u001b[0m\u001b[0;31m:\u001b[0m invalid syntax\n"
     ]
    }
   ],
   "source": [
    "for j in len(bothValid):\n",
    "        print(station)\n",
    "        stationNumber+j = pd.DataFrame(columns = ['OB_TIME','SRC_ID','Q100CM_SOIL_TEMP','OB_DATE','MIN_GRSS_TEMP'])\n",
    "            \n",
    "        start_date = date(x, 1, 1)\n",
    "        end_date = date(x, 12, 31)\n",
    "        for single_date in daterange(start_date, end_date):\n",
    "            print(single_date.strftime(\"%Y-%m-%d\"))    for j in len(bothValid):\n",
    "        print(station)\n",
    "        stationNumber+j = pd.DataFrame(columns = ['OB_TIME','SRC_ID','Q100CM_SOIL_TEMP','OB_DATE','MIN_GRSS_TEMP'])\n",
    "            \n",
    "        start_date = date(x, 1, 1)\n",
    "        end_date = date(x, 12, 31)\n",
    "        for single_date in daterange(start_date, end_date):\n",
    "            print(single_date.strftime(\"%Y-%m-%d\"))"
   ]
  },
  {
   "cell_type": "code",
   "execution_count": 114,
   "metadata": {},
   "outputs": [],
   "source": [
    "stationID = {}\n",
    "\n",
    "for stationDF in bothHaveData:\n",
    "    stationID[stationDF] = pd.DataFrame(columns = ['OB_TIME','SRC_ID','Q100CM_SOIL_TEMP','OB_DATE','MIN_GRSS_TEMP'])\n"
   ]
  },
  {
   "cell_type": "code",
   "execution_count": 115,
   "metadata": {},
   "outputs": [],
   "source": [
    "counter = 0;\n",
    "x = 1905\n",
    "start_date = date(x, 1, 1)\n",
    "end_date = date(x, 12,31)\n",
    "#12, 31)\n",
    "for single_date in daterange(start_date, end_date):\n",
    "    getDaySoil = filteredSet['OB_DATE'] == single_date.strftime(\"%Y-%m-%d\")\n",
    "    getDayAir = filteredAirSet['OB_END_DATE'] == single_date.strftime(\"%Y-%m-%d\")\n",
    "    \n",
    "    for stationNo in bothHaveData:\n",
    "    \n",
    "        getStationS = filteredSet['SRC_ID'] == stationNo\n",
    "        getStationA = filteredAirSet['SRC_ID'] == stationNo\n",
    "        \n",
    "        stationFilterS = getDaySoil & getStationS\n",
    "        #print(filteredSet[stationFilterS])\n",
    "        \n",
    "        stationFilterA = getDayAir & getStationA\n",
    "        #print(filteredAirSet[stationFilterA])\n",
    "        oneValSoil = filteredSet[stationFilterS]\n",
    "        oneValAir = filteredAirSet[stationFilterA]\n",
    "        \n",
    "        try:\n",
    "            listForAppend = [oneValSoil['OB_TIME'].values[0],\n",
    "                                    oneValSoil['SRC_ID'].values[0],\n",
    "                                    oneValSoil['Q100CM_SOIL_TEMP'].values[0],\n",
    "                                    oneValSoil['OB_DATE'].values[0],\n",
    "                                    oneValAir['MIN_GRSS_TEMP'].values[0]]\n",
    "\n",
    "            s = pd.Series(listForAppend, index=stationID[stationNo].columns)\n",
    "\n",
    "            stationID[stationNo] = stationID[stationNo].append(s, ignore_index=True)\n",
    "        except:\n",
    "            #print(\"no val \" + str(stationNo))\n",
    "            counter += 1\n",
    "\n"
   ]
  },
  {
   "cell_type": "code",
   "execution_count": 116,
   "metadata": {},
   "outputs": [],
   "source": [
    "import math\n",
    "\n",
    "for stationDF in bothHaveData:\n",
    "    stationID[stationDF].to_csv(\"stationData/stationID_\"+str(math.trunc(stationDF))+\".csv\", mode='a', header=False)\n",
    "\n"
   ]
  },
  {
   "cell_type": "code",
   "execution_count": 111,
   "metadata": {},
   "outputs": [
    {
     "ename": "KeyError",
     "evalue": "3.0",
     "output_type": "error",
     "traceback": [
      "\u001b[0;31m---------------------------------------------------------------------------\u001b[0m",
      "\u001b[0;31mKeyError\u001b[0m                                  Traceback (most recent call last)",
      "\u001b[0;32m<ipython-input-111-575cd9b4ccfe>\u001b[0m in \u001b[0;36m<module>\u001b[0;34m\u001b[0m\n\u001b[0;32m----> 1\u001b[0;31m \u001b[0mprint\u001b[0m\u001b[0;34m(\u001b[0m\u001b[0mstationID\u001b[0m\u001b[0;34m[\u001b[0m\u001b[0;36m3.0\u001b[0m\u001b[0;34m]\u001b[0m\u001b[0;34m)\u001b[0m\u001b[0;34m\u001b[0m\u001b[0;34m\u001b[0m\u001b[0m\n\u001b[0m",
      "\u001b[0;31mKeyError\u001b[0m: 3.0"
     ]
    }
   ],
   "source": [
    "print(stationID[3.0])"
   ]
  },
  {
   "cell_type": "code",
   "execution_count": null,
   "metadata": {},
   "outputs": [],
   "source": []
  }
 ],
 "metadata": {
  "kernelspec": {
   "display_name": "Python 3",
   "language": "python",
   "name": "python3"
  },
  "language_info": {
   "codemirror_mode": {
    "name": "ipython",
    "version": 3
   },
   "file_extension": ".py",
   "mimetype": "text/x-python",
   "name": "python",
   "nbconvert_exporter": "python",
   "pygments_lexer": "ipython3",
   "version": "3.8.3"
  }
 },
 "nbformat": 4,
 "nbformat_minor": 4
}
