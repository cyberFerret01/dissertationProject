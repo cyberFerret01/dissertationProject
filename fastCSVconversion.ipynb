{
 "cells": [
  {
   "cell_type": "code",
   "execution_count": 1,
   "metadata": {},
   "outputs": [],
   "source": [
    "import ftplib\n",
    "import os\n",
    "import pandas as pd"
   ]
  },
  {
   "cell_type": "code",
   "execution_count": 2,
   "metadata": {},
   "outputs": [],
   "source": [
    "SOIL_CSV_HEAD = \"ID,ID_TYPE,OB_TIME,MET_DOMAIN_NAME,VERSION_NUM,SRC_ID,REC_ST_IND,Q5CM_SOIL_TEMP,Q10CM_SOIL_TEMP,Q20CM_SOIL_TEMP,Q30CM_SOIL_TEMP,Q50CM_SOIL_TEMP,Q100CM_SOIL_TEMP,Q5CM_SOIL_TEMP_Q,Q10CM_SOIL_TEMP_Q,Q20CM_SOIL_TEMP_Q,Q30CM_SOIL_TEMP_Q,Q50CM_SOIL_TEMP_Q,Q100CM_SOIL_TEMP_Q,METO_STMP_TIME,MIDAS_STMP_ETIME,Q5CM_SOIL_TEMP_J,Q10CM_SOIL_TEMP_J,Q20CM_SOIL_TEMP_J,Q30CM_SOIL_TEMP_J,Q50CM_SOIL_TEMP_J,Q100CM_SOIL_TEMP_J\"\n",
    "TEMP_CSV_HEAD = \"OB_END_TIME,ID_TYPE,ID,OB_HOUR_COUNT,VERSION_NUM,MET_DOMAIN_NAME,SRC_ID,REC_ST_IND,MAX_AIR_TEMP,MIN_AIR_TEMP,MIN_GRSS_TEMP,MIN_CONC_TEMP,MAX_AIR_TEMP_Q,MIN_AIR_TEMP_Q,MIN_GRSS_TEMP_Q,MIN_CONC_TEMP_Q,METO_STMP_TIME,MIDAS_STMP_ETIME,MAX_AIR_TEMP_J,MIN_AIR_TEMP_J,MIN_GRSS_TEMP_J,MIN_CONC_TEMP_J \""
   ]
  },
  {
   "cell_type": "code",
   "execution_count": 3,
   "metadata": {},
   "outputs": [],
   "source": [
    "SOURCE_ROOT = \"badc/ukmo-midas/data/\"\n",
    "\n"
   ]
  },
  {
   "cell_type": "code",
   "execution_count": 4,
   "metadata": {},
   "outputs": [],
   "source": [
    "def download_data (subfolder, fileRoot, dataFrom, dataTo):\n",
    "    connection =ftplib.FTP(\"ftp.ceda.ac.uk\", \"rnicoll\", \"Windows.7\")\n",
    "    connection.cwd(SOURCE_ROOT+subfolder)\n",
    "    while dataFrom != 202001 and dataTo != 202012:\n",
    "    \n",
    "        dataFrom+=100\n",
    "        dataTo+=100\n",
    "\n",
    "        #get file\n",
    "        fileHead = fileRoot+str(dataFrom)+\"-\"+str(dataTo)\n",
    "        fileName = fileHead+\".txt\"\n",
    "\n",
    "        connection.retrbinary(\"RETR %s\" % fileName, open(\"data/\"+ subfolder + fileName, \"wb\").write)\n",
    "        print(fileName)\n",
    "    connection.close()"
   ]
  },
  {
   "cell_type": "code",
   "execution_count": 5,
   "metadata": {},
   "outputs": [],
   "source": [
    "def parse_to_CSV (subfolder, fileRoot, dataFrom, dataTo, CSV_HEAD):\n",
    "    while dataFrom != 202001 and dataTo != 202012:\n",
    "\n",
    "        dataFrom+=100\n",
    "        dataTo+=100\n",
    "\n",
    "        #get file\n",
    "        fileHead = fileRoot+str(dataFrom)+\"-\"+str(dataTo)\n",
    "        fileName = fileHead+\".txt\"\n",
    "        print(\"Opening \"+fileName)\n",
    "\n",
    "        line_prepender(\"data/\" +subfolder+fileName,CSV_HEAD+\"\\n\")\n",
    "\n",
    "        base = os.path.splitext(fileName)[0]\n",
    "        os.rename(\"data/\"+subfolder+fileName, \"data/\"+subfolder+base + \".csv\")\n",
    "        print(\"CSV saved\")"
   ]
  },
  {
   "cell_type": "code",
   "execution_count": 6,
   "metadata": {},
   "outputs": [],
   "source": [
    "def line_prepender(filename, line):\n",
    "    with open(filename, 'r+') as f:\n",
    "        content = f.read()\n",
    "        f.seek(0, 0)\n",
    "        f.write(line.rstrip('\\r\\n') + '\\n' + content)\n",
    "        f.close()"
   ]
  },
  {
   "cell_type": "code",
   "execution_count": 7,
   "metadata": {},
   "outputs": [
    {
     "name": "stdout",
     "output_type": "stream",
     "text": [
      "midas_soiltemp_190401-190412.txt\n",
      "midas_soiltemp_190501-190512.txt\n",
      "midas_soiltemp_190601-190612.txt\n",
      "midas_soiltemp_190701-190712.txt\n",
      "midas_soiltemp_190801-190812.txt\n",
      "midas_soiltemp_190901-190912.txt\n",
      "midas_soiltemp_191001-191012.txt\n",
      "midas_soiltemp_191101-191112.txt\n",
      "midas_soiltemp_191201-191212.txt\n",
      "midas_soiltemp_191301-191312.txt\n",
      "midas_soiltemp_191401-191412.txt\n",
      "midas_soiltemp_191501-191512.txt\n",
      "midas_soiltemp_191601-191612.txt\n",
      "midas_soiltemp_191701-191712.txt\n",
      "midas_soiltemp_191801-191812.txt\n",
      "midas_soiltemp_191901-191912.txt\n",
      "midas_soiltemp_192001-192012.txt\n",
      "midas_soiltemp_192101-192112.txt\n",
      "midas_soiltemp_192201-192212.txt\n",
      "midas_soiltemp_192301-192312.txt\n",
      "midas_soiltemp_192401-192412.txt\n",
      "midas_soiltemp_192501-192512.txt\n"
     ]
    },
    {
     "ename": "KeyboardInterrupt",
     "evalue": "",
     "output_type": "error",
     "traceback": [
      "\u001b[0;31m---------------------------------------------------------------------------\u001b[0m",
      "\u001b[0;31mKeyboardInterrupt\u001b[0m                         Traceback (most recent call last)",
      "\u001b[0;32m<ipython-input-7-ae01a1535893>\u001b[0m in \u001b[0;36m<module>\u001b[0;34m\u001b[0m\n\u001b[0;32m----> 1\u001b[0;31m \u001b[0mdownload_data\u001b[0m\u001b[0;34m(\u001b[0m\u001b[0;34m\"ST/yearly_files/\"\u001b[0m\u001b[0;34m,\u001b[0m\u001b[0;34m\"midas_soiltemp_\"\u001b[0m\u001b[0;34m,\u001b[0m\u001b[0;36m190301\u001b[0m\u001b[0;34m,\u001b[0m\u001b[0;36m190312\u001b[0m\u001b[0;34m)\u001b[0m\u001b[0;34m\u001b[0m\u001b[0;34m\u001b[0m\u001b[0m\n\u001b[0m\u001b[1;32m      2\u001b[0m \u001b[0mdownload_data\u001b[0m\u001b[0;34m(\u001b[0m\u001b[0;34m\"TD/yearly_files/\"\u001b[0m\u001b[0;34m,\u001b[0m\u001b[0;34m\"midas_tempdrnl_\"\u001b[0m\u001b[0;34m,\u001b[0m\u001b[0;36m190301\u001b[0m\u001b[0;34m,\u001b[0m\u001b[0;36m190312\u001b[0m\u001b[0;34m)\u001b[0m\u001b[0;34m\u001b[0m\u001b[0;34m\u001b[0m\u001b[0m\n",
      "\u001b[0;32m<ipython-input-4-282e648700bc>\u001b[0m in \u001b[0;36mdownload_data\u001b[0;34m(subfolder, fileRoot, dataFrom, dataTo)\u001b[0m\n\u001b[1;32m     11\u001b[0m         \u001b[0mfileName\u001b[0m \u001b[0;34m=\u001b[0m \u001b[0mfileHead\u001b[0m\u001b[0;34m+\u001b[0m\u001b[0;34m\".txt\"\u001b[0m\u001b[0;34m\u001b[0m\u001b[0;34m\u001b[0m\u001b[0m\n\u001b[1;32m     12\u001b[0m \u001b[0;34m\u001b[0m\u001b[0m\n\u001b[0;32m---> 13\u001b[0;31m         \u001b[0mconnection\u001b[0m\u001b[0;34m.\u001b[0m\u001b[0mretrbinary\u001b[0m\u001b[0;34m(\u001b[0m\u001b[0;34m\"RETR %s\"\u001b[0m \u001b[0;34m%\u001b[0m \u001b[0mfileName\u001b[0m\u001b[0;34m,\u001b[0m \u001b[0mopen\u001b[0m\u001b[0;34m(\u001b[0m\u001b[0;34m\"data/\"\u001b[0m\u001b[0;34m+\u001b[0m \u001b[0msubfolder\u001b[0m \u001b[0;34m+\u001b[0m \u001b[0mfileName\u001b[0m\u001b[0;34m,\u001b[0m \u001b[0;34m\"wb\"\u001b[0m\u001b[0;34m)\u001b[0m\u001b[0;34m.\u001b[0m\u001b[0mwrite\u001b[0m\u001b[0;34m)\u001b[0m\u001b[0;34m\u001b[0m\u001b[0;34m\u001b[0m\u001b[0m\n\u001b[0m\u001b[1;32m     14\u001b[0m         \u001b[0mprint\u001b[0m\u001b[0;34m(\u001b[0m\u001b[0mfileName\u001b[0m\u001b[0;34m)\u001b[0m\u001b[0;34m\u001b[0m\u001b[0;34m\u001b[0m\u001b[0m\n\u001b[1;32m     15\u001b[0m     \u001b[0mconnection\u001b[0m\u001b[0;34m.\u001b[0m\u001b[0mclose\u001b[0m\u001b[0;34m(\u001b[0m\u001b[0;34m)\u001b[0m\u001b[0;34m\u001b[0m\u001b[0;34m\u001b[0m\u001b[0m\n",
      "\u001b[0;32m~/opt/anaconda3/lib/python3.8/ftplib.py\u001b[0m in \u001b[0;36mretrbinary\u001b[0;34m(self, cmd, callback, blocksize, rest)\u001b[0m\n\u001b[1;32m    425\u001b[0m         \u001b[0;32mwith\u001b[0m \u001b[0mself\u001b[0m\u001b[0;34m.\u001b[0m\u001b[0mtransfercmd\u001b[0m\u001b[0;34m(\u001b[0m\u001b[0mcmd\u001b[0m\u001b[0;34m,\u001b[0m \u001b[0mrest\u001b[0m\u001b[0;34m)\u001b[0m \u001b[0;32mas\u001b[0m \u001b[0mconn\u001b[0m\u001b[0;34m:\u001b[0m\u001b[0;34m\u001b[0m\u001b[0;34m\u001b[0m\u001b[0m\n\u001b[1;32m    426\u001b[0m             \u001b[0;32mwhile\u001b[0m \u001b[0;36m1\u001b[0m\u001b[0;34m:\u001b[0m\u001b[0;34m\u001b[0m\u001b[0;34m\u001b[0m\u001b[0m\n\u001b[0;32m--> 427\u001b[0;31m                 \u001b[0mdata\u001b[0m \u001b[0;34m=\u001b[0m \u001b[0mconn\u001b[0m\u001b[0;34m.\u001b[0m\u001b[0mrecv\u001b[0m\u001b[0;34m(\u001b[0m\u001b[0mblocksize\u001b[0m\u001b[0;34m)\u001b[0m\u001b[0;34m\u001b[0m\u001b[0;34m\u001b[0m\u001b[0m\n\u001b[0m\u001b[1;32m    428\u001b[0m                 \u001b[0;32mif\u001b[0m \u001b[0;32mnot\u001b[0m \u001b[0mdata\u001b[0m\u001b[0;34m:\u001b[0m\u001b[0;34m\u001b[0m\u001b[0;34m\u001b[0m\u001b[0m\n\u001b[1;32m    429\u001b[0m                     \u001b[0;32mbreak\u001b[0m\u001b[0;34m\u001b[0m\u001b[0;34m\u001b[0m\u001b[0m\n",
      "\u001b[0;31mKeyboardInterrupt\u001b[0m: "
     ]
    }
   ],
   "source": [
    "download_data(\"ST/yearly_files/\",\"midas_soiltemp_\",190301,190312)\n",
    "download_data(\"TD/yearly_files/\",\"midas_tempdrnl_\",190301,190312)"
   ]
  },
  {
   "cell_type": "code",
   "execution_count": null,
   "metadata": {},
   "outputs": [],
   "source": [
    "parse_to_CSV(\"ST/yearly_files/\",\"midas_soiltemp_\",190301,190312, SOIL_CSV_HEAD)\n",
    "parse_to_CSV(\"TD/yearly_files/\",\"midas_tempdrnl_\",190301,190312, TEMP_CSV_HEAD)\n"
   ]
  },
  {
   "cell_type": "code",
   "execution_count": null,
   "metadata": {},
   "outputs": [],
   "source": []
  },
  {
   "cell_type": "code",
   "execution_count": null,
   "metadata": {},
   "outputs": [],
   "source": [
    "dtypes={\n",
    "'ID': int,\n",
    "'ID_TYPE': \"string\",\n",
    "'OB_TIME': \"string\",\n",
    "'MET_DOMAIN_NAME': \"string\",\n",
    "'VERSION_NUM': int,\n",
    "'SRC_ID': int,\n",
    "'REC_ST_IND': \"string\",\n",
    "'Q5CM_SOIL_TEMP': \"string\",\n",
    "'Q10CM_SOIL_TEMP': \"string\",\n",
    "'Q20CM_SOIL_TEMP': \"string\",\n",
    "'Q30CM_SOIL_TEMP': \"string\",\n",
    "'Q50CM_SOIL_TEMP': \"string\",\n",
    "'Q100CM_SOIL_TEMP': \"string\",\n",
    "'Q5CM_SOIL_TEMP_Q': \"string\",\n",
    "'Q10CM_SOIL_TEMP_Q': \"string\",\n",
    "'Q20CM_SOIL_TEMP_Q': \"string\",\n",
    "'Q30CM_SOIL_TEMP_Q': \"string\",\n",
    "'Q50CM_SOIL_TEMP_Q': \"string\",\n",
    "'Q100CM_SOIL_TEMP_Q': int,\n",
    "'METO_STMP_TIME': \"string\",\n",
    "'MIDAS_STMP_ETIME': \"string\",\n",
    "'Q5CM_SOIL_TEMP_J': \"string\",\n",
    "'Q10CM_SOIL_TEMP_J': \"string\",\n",
    "'Q20CM_SOIL_TEMP_J': \"string\",\n",
    "'Q30CM_SOIL_TEMP_J': \"string\",\n",
    "'Q50CM_SOIL_TEMP_J': \"string\",\n",
    "'Q100CM_SOIL_TEMP_J': \"string\"\n",
    "}\n",
    "\n",
    "#idk if this is needed"
   ]
  },
  {
   "cell_type": "code",
   "execution_count": 18,
   "metadata": {},
   "outputs": [
    {
     "name": "stdout",
     "output_type": "stream",
     "text": [
      "0         24940.0\n",
      "1           526.0\n",
      "2         18905.0\n",
      "3         18995.0\n",
      "4         24942.0\n",
      "           ...   \n",
      "346879     1585.0\n",
      "346880     1588.0\n",
      "346881     1603.0\n",
      "346882     1609.0\n",
      "346883     1572.0\n",
      "Name: SRC_ID, Length: 346884, dtype: float64\n"
     ]
    }
   ],
   "source": [
    "newTest = pd.read_csv(\"airCSVData/midas_tempdrnl_200001-200012.csv\",sep=r'\\s*,\\s*',\n",
    "                           header=0, encoding='ascii', engine='python')\n",
    "print(newTest['SRC_ID'])"
   ]
  },
  {
   "cell_type": "code",
   "execution_count": 21,
   "metadata": {},
   "outputs": [],
   "source": [
    "soilData = pd.read_csv(\"soilCSVData/midas_soiltemp_200001-200012.csv\",sep=r'\\s*,\\s*',\n",
    "                           header=0, encoding='ascii', engine='python')"
   ]
  },
  {
   "cell_type": "code",
   "execution_count": 39,
   "metadata": {},
   "outputs": [
    {
     "name": "stdout",
     "output_type": "stream",
     "text": [
      "OB_END_TIME         2000-04-23 09:00\n",
      "ID_TYPE                         DCNN\n",
      "ID                              5400\n",
      "OB_HOUR_COUNT                     12\n",
      "VERSION_NUM                        1\n",
      "MET_DOMAIN_NAME                  NCM\n",
      "SRC_ID                           779\n",
      "REC_ST_IND                      1011\n",
      "MAX_AIR_TEMP                    10.4\n",
      "MIN_AIR_TEMP                     6.5\n",
      "MIN_GRSS_TEMP                    2.2\n",
      "MIN_CONC_TEMP                    NaN\n",
      "MAX_AIR_TEMP_Q                     1\n",
      "MIN_AIR_TEMP_Q                     1\n",
      "MIN_GRSS_TEMP_Q                    1\n",
      "MIN_CONC_TEMP_Q                    1\n",
      "METO_STMP_TIME      2000-04-23 09:04\n",
      "MIDAS_STMP_ETIME                4116\n",
      "MAX_AIR_TEMP_J                   NaN\n",
      "MIN_AIR_TEMP_J                   NaN\n",
      "MIN_GRSS_TEMP_J                  NaN\n",
      "MIN_CONC_TEMP_J                  NaN\n",
      "Name: 106248, dtype: object\n"
     ]
    }
   ],
   "source": [
    "#newTest['ID']=\n",
    "p = newTest['ID'] == 5400\n",
    "beep = newTest[p]\n",
    "\n",
    "d = beep['MIDAS_STMP_ETIME'] == 4116\n",
    "\n",
    "boop = beep[d]\n",
    "print(boop.iloc[0])"
   ]
  },
  {
   "cell_type": "code",
   "execution_count": 15,
   "metadata": {},
   "outputs": [
    {
     "name": "stdout",
     "output_type": "stream",
     "text": [
      "<class 'pandas.core.frame.DataFrame'>\n",
      "RangeIndex: 945477 entries, 0 to 945476\n",
      "Data columns (total 27 columns):\n",
      " #   Column              Non-Null Count   Dtype  \n",
      "---  ------              --------------   -----  \n",
      " 0   ID                  945477 non-null  int64  \n",
      " 1   ID_TYPE             945477 non-null  object \n",
      " 2   OB_TIME             945477 non-null  object \n",
      " 3   MET_DOMAIN_NAME     945477 non-null  object \n",
      " 4   VERSION_NUM         945476 non-null  float64\n",
      " 5   SRC_ID              945476 non-null  float64\n",
      " 6   REC_ST_IND          945476 non-null  float64\n",
      " 7   Q5CM_SOIL_TEMP      31 non-null      float64\n",
      " 8   Q10CM_SOIL_TEMP     901400 non-null  float64\n",
      " 9   Q20CM_SOIL_TEMP     35663 non-null   float64\n",
      " 10  Q30CM_SOIL_TEMP     111999 non-null  float64\n",
      " 11  Q50CM_SOIL_TEMP     21644 non-null   float64\n",
      " 12  Q100CM_SOIL_TEMP    68347 non-null   float64\n",
      " 13  Q5CM_SOIL_TEMP_Q    945422 non-null  float64\n",
      " 14  Q10CM_SOIL_TEMP_Q   945455 non-null  float64\n",
      " 15  Q20CM_SOIL_TEMP_Q   945422 non-null  float64\n",
      " 16  Q30CM_SOIL_TEMP_Q   945436 non-null  float64\n",
      " 17  Q50CM_SOIL_TEMP_Q   945422 non-null  float64\n",
      " 18  Q100CM_SOIL_TEMP_Q  945424 non-null  float64\n",
      " 19  METO_STMP_TIME      945476 non-null  object \n",
      " 20  MIDAS_STMP_ETIME    945476 non-null  float64\n",
      " 21  Q5CM_SOIL_TEMP_J    0 non-null       float64\n",
      " 22  Q10CM_SOIL_TEMP_J   0 non-null       float64\n",
      " 23  Q20CM_SOIL_TEMP_J   0 non-null       float64\n",
      " 24  Q30CM_SOIL_TEMP_J   0 non-null       float64\n",
      " 25  Q50CM_SOIL_TEMP_J   0 non-null       float64\n",
      " 26  Q100CM_SOIL_TEMP_J  0 non-null       float64\n",
      "dtypes: float64(22), int64(1), object(4)\n",
      "memory usage: 194.8+ MB\n",
      "None\n"
     ]
    }
   ],
   "source": [
    "print(newTest.info())"
   ]
  },
  {
   "cell_type": "code",
   "execution_count": 24,
   "metadata": {},
   "outputs": [
    {
     "name": "stdout",
     "output_type": "stream",
     "text": [
      "ID                                5400\n",
      "ID_TYPE                           DCNN\n",
      "OB_TIME               2000-04-23 09:00\n",
      "MET_DOMAIN_NAME                    NCM\n",
      "VERSION_NUM                          1\n",
      "SRC_ID                             779\n",
      "REC_ST_IND                        1011\n",
      "Q5CM_SOIL_TEMP                     NaN\n",
      "Q10CM_SOIL_TEMP                   10.8\n",
      "Q20CM_SOIL_TEMP                    NaN\n",
      "Q30CM_SOIL_TEMP                   10.9\n",
      "Q50CM_SOIL_TEMP                    NaN\n",
      "Q100CM_SOIL_TEMP                   9.4\n",
      "Q5CM_SOIL_TEMP_Q                     1\n",
      "Q10CM_SOIL_TEMP_Q                    1\n",
      "Q20CM_SOIL_TEMP_Q                    1\n",
      "Q30CM_SOIL_TEMP_Q                    1\n",
      "Q50CM_SOIL_TEMP_Q                    1\n",
      "Q100CM_SOIL_TEMP_Q                   1\n",
      "METO_STMP_TIME        2000-04-23 09:04\n",
      "MIDAS_STMP_ETIME                  4116\n",
      "Q5CM_SOIL_TEMP_J                   NaN\n",
      "Q10CM_SOIL_TEMP_J                  NaN\n",
      "Q20CM_SOIL_TEMP_J                  NaN\n",
      "Q30CM_SOIL_TEMP_J                  NaN\n",
      "Q50CM_SOIL_TEMP_J                  NaN\n",
      "Q100CM_SOIL_TEMP_J                 NaN\n",
      "Name: 267276, dtype: object\n",
      "[[<matplotlib.axes._subplots.AxesSubplot object at 0x7ffc4cb62730>]]\n"
     ]
    },
    {
     "data": {
      "image/png": "[encoded data removed]",
      "text/plain": [
       "<Figure size 432x288 with 1 Axes>"
      ]
     },
     "metadata": {
      "needs_background": "light"
     },
     "output_type": "display_data"
    }
   ],
   "source": [
    "\n",
    "\n",
    "newNewTest = soilData['Q100CM_SOIL_TEMP'] > 9\n",
    "newestTest = soilData[newNewTest]\n",
    "#print(newestTest)\n",
    "print(newestTest.iloc[840])\n",
    "print(newestTest.hist('Q100CM_SOIL_TEMP', bins = 'auto'))"
   ]
  },
  {
   "cell_type": "code",
   "execution_count": 17,
   "metadata": {},
   "outputs": [
    {
     "name": "stdout",
     "output_type": "stream",
     "text": [
      "0        NaN\n",
      "1        NaN\n",
      "2        NaN\n",
      "3        NaN\n",
      "4        NaN\n",
      "          ..\n",
      "945472   NaN\n",
      "945473   NaN\n",
      "945474   NaN\n",
      "945475   NaN\n",
      "945476   NaN\n",
      "Name: ID, Length: 945477, dtype: float64\n"
     ]
    }
   ],
   "source": [
    "print(newTest['ID'].where(newTest['Q100CM_SOIL_TEMP'] > 0))"
   ]
  },
  {
   "cell_type": "code",
   "execution_count": null,
   "metadata": {},
   "outputs": [],
   "source": []
  },
  {
   "cell_type": "code",
   "execution_count": null,
   "metadata": {},
   "outputs": [],
   "source": []
  },
  {
   "cell_type": "code",
   "execution_count": null,
   "metadata": {},
   "outputs": [],
   "source": []
  }
 ],
 "metadata": {
  "kernelspec": {
   "display_name": "Python 3",
   "language": "python",
   "name": "python3"
  },
  "language_info": {
   "codemirror_mode": {
    "name": "ipython",
    "version": 3
   },
   "file_extension": ".py",
   "mimetype": "text/x-python",
   "name": "python",
   "nbconvert_exporter": "python",
   "pygments_lexer": "ipython3",
   "version": "3.8.3"
  }
 },
 "nbformat": 4,
 "nbformat_minor": 4
}
