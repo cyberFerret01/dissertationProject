{
 "cells": [
  {
   "cell_type": "code",
   "execution_count": null,
   "metadata": {},
   "outputs": [],
   "source": [
    "import ftplib\n",
    "import os\n",
    "import pandas as pd"
   ]
  },
  {
   "cell_type": "code",
   "execution_count": null,
   "metadata": {},
   "outputs": [],
   "source": [
    "from datetime import timedelta, date\n",
    "\n",
    "def daterange(start_date, end_date):\n",
    "    for n in range(int((end_date - start_date).days)):\n",
    "        yield start_date + timedelta(n)"
   ]
  },
  {
   "cell_type": "code",
   "execution_count": null,
   "metadata": {},
   "outputs": [],
   "source": [
    "for x in range(1904, 2020):\n",
    "    midasEnd = str(x) + \"12\"\n",
    "    midasStart = str(x) + \"01\"\n",
    "    \n",
    "    #get data\n",
    "    airData = pd.read_csv(\"airCSVData/midas_tempdrnl_\"+midasStart+\"-\"+midasEnd+\".csv\",sep=r'\\s*,\\s*',\n",
    "                           header=0, encoding='ascii', engine='python')\n",
    "    soilData = pd.read_csv(\"soilCSVData/midas_soiltemp_\"+midasStart+\"-\"+midasEnd+\".csv\",sep=r'\\s*,\\s*',\n",
    "                           header=0, encoding='ascii', engine='python')\n",
    "    \n",
    "    #remove unnedded columns\n",
    "    airDataS = airData.drop(columns = ['MAX_AIR_TEMP_J','MIN_AIR_TEMP_J','MIN_GRSS_TEMP_J','MIN_CONC_TEMP_J',\n",
    "                                 'MAX_AIR_TEMP_Q','MIN_AIR_TEMP_Q','MIN_GRSS_TEMP_Q','MIN_CONC_TEMP_Q',\n",
    "                                 'ID_TYPE','VERSION_NUM','MAX_AIR_TEMP','MIN_AIR_TEMP',\n",
    "                                 'MET_DOMAIN_NAME','ID','MIDAS_STMP_ETIME','MIN_CONC_TEMP','REC_ST_IND',\n",
    "                                 'OB_HOUR_COUNT','METO_STMP_TIME'])\n",
    "    soilData = soilData.drop(columns = ['Q100CM_SOIL_TEMP_J','Q50CM_SOIL_TEMP_J','Q30CM_SOIL_TEMP_J','Q20CM_SOIL_TEMP_J',\n",
    "                        'Q10CM_SOIL_TEMP_J','Q100CM_SOIL_TEMP_Q','Q50CM_SOIL_TEMP_Q','Q30CM_SOIL_TEMP_Q',\n",
    "                        'Q20CM_SOIL_TEMP_Q','Q10CM_SOIL_TEMP_Q','Q5CM_SOIL_TEMP_Q','Q5CM_SOIL_TEMP_J',\n",
    "                        'Q50CM_SOIL_TEMP','Q30CM_SOIL_TEMP','Q20CM_SOIL_TEMP',\n",
    "                        'Q10CM_SOIL_TEMP','Q5CM_SOIL_TEMP', 'ID', 'ID_TYPE', 'MET_DOMAIN_NAME', \n",
    "                        'VERSION_NUM', 'MIDAS_STMP_ETIME','METO_STMP_TIME','REC_ST_IND'])\n",
    "    \n",
    "    #split date/time column\n",
    "    airDataS[['OB_END_DATE','OB_END_TIME']] = airDataS['OB_END_TIME'].str.split(' ',expand=True)\n",
    "    soilData[['OB_DATE','OB_TIME']] = soilData['OB_TIME'].str.split(' ',expand=True)\n",
    "    \n",
    "    #create list of stations with valid data\n",
    "    \n",
    "    filteredAirSet = airDataS[airDataS.MIN_GRSS_TEMP.notnull()]\n",
    "    filteredSet = soilData[(soilData['Q100CM_SOIL_TEMP'] > 0)]\n",
    "    \n",
    "    noOfStationsGrass = filteredAirSet.SRC_ID.unique().tolist()\n",
    "    noOfStationsSoil = filteredSet.SRC_ID.unique().tolist()\n",
    "\n",
    "    bothHaveData = list(set(noOfStationsSoil) & set(noOfStationsGrass))\n",
    "    \n",
    "    for j in len(bothValid):\n",
    "        print(station)\n",
    "        stationNumber+j = pd.DataFrame(columns = ['OB_TIME','SRC_ID','Q100CM_SOIL_TEMP','OB_DATE','MIN_GRSS_TEMP'])\n",
    "            \n",
    "        start_date = date(x, 1, 1)\n",
    "        end_date = date(x, 12, 31)\n",
    "        for single_date in daterange(start_date, end_date):\n",
    "            print(single_date.strftime(\"%Y-%m-%d\"))"
   ]
  }
 ],
 "metadata": {
  "kernelspec": {
   "display_name": "Python 3",
   "language": "python",
   "name": "python3"
  },
  "language_info": {
   "codemirror_mode": {
    "name": "ipython",
    "version": 3
   },
   "file_extension": ".py",
   "mimetype": "text/x-python",
   "name": "python",
   "nbconvert_exporter": "python",
   "pygments_lexer": "ipython3",
   "version": "3.8.3"
  }
 },
 "nbformat": 4,
 "nbformat_minor": 4
}
